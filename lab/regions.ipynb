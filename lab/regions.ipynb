{
 "cells": [
  {
   "cell_type": "markdown",
   "metadata": {},
   "source": [
    "## Ucitavanje podataka"
   ]
  },
  {
   "cell_type": "code",
   "execution_count": 1,
   "metadata": {
    "tags": [
     "input"
    ]
   },
   "outputs": [
    {
     "name": "stderr",
     "output_type": "stream",
     "text": [
      "c:\\Users\\nikol\\Documents\\projects\\makeapp-pro\\lab\\env\\Lib\\site-packages\\google\\protobuf\\symbol_database.py:55: UserWarning: SymbolDatabase.GetPrototype() is deprecated. Please use message_factory.GetMessageClass() instead. SymbolDatabase.GetPrototype() will be removed soon.\n",
      "  warnings.warn('SymbolDatabase.GetPrototype() is deprecated. Please '\n"
     ]
    }
   ],
   "source": [
    "import cv2\n",
    "import mediapipe as mp\n",
    "import regions\n",
    "import keypoints\n",
    "\n",
    "# Initialize MediaPipe Face Landmarker\n",
    "mp_face_mesh = mp.solutions.face_mesh\n",
    "face_mesh = mp_face_mesh.FaceMesh(static_image_mode=True, max_num_faces=1, refine_landmarks=True, min_detection_confidence=0.5)\n",
    "\n",
    "\n",
    "# Load an image from file\n",
    "image_path = \"data/before/1.png\"  # Replace with your image file path\n",
    "original_image = cv2.imread(image_path)\n",
    "image = original_image.copy()\n",
    "# Check if the image loaded correctly\n",
    "if image is None:\n",
    "    print(\"Error loading image!\")\n",
    "else:\n",
    "    # Convert the image to RGB since MediaPipe expects RGB input\n",
    "    rgb_image = cv2.cvtColor(image, cv2.COLOR_BGR2RGB)\n",
    "    # Process the image with MediaPipe Face Mesh\n",
    "    results = face_mesh.process(rgb_image)"
   ]
  },
  {
   "cell_type": "markdown",
   "metadata": {},
   "source": [
    "## Prikaz regiona"
   ]
  },
  {
   "cell_type": "code",
   "execution_count": 5,
   "metadata": {},
   "outputs": [],
   "source": [
    "\n",
    "\n",
    "# Check if any face landmarks were detected\n",
    "if results.multi_face_landmarks:\n",
    "    for face_landmarks in results.multi_face_landmarks:\n",
    "        # Example: Use a set of landmarks for the right cheek\n",
    "        \n",
    "        # Draw polygons for each individual keypoint\n",
    "        for kp in keypoints.EYE_R:\n",
    "            image = regions.draw(image, face_landmarks.landmark, kp)\n",
    "        \n",
    "        for kp in keypoints.EYE_L:\n",
    "            image = regions.draw(image, face_landmarks.landmark, kp)\n",
    "        \n",
    "        image = regions.draw(image, face_landmarks.landmark, keypoints.EYE_L3, color=(255, 255, 0))\n",
    "        image = regions.draw(image, face_landmarks.landmark, keypoints.EYE_R3, color=(255, 255, 0))\n",
    "        image = regions.draw(image, face_landmarks.landmark, keypoints.BROW_L, color=(0, 0, 255))\n",
    "        image = regions.draw(image, face_landmarks.landmark, keypoints.BROW_R, color=(0, 0, 255))\n",
    "        image = regions.draw(image, face_landmarks.landmark, keypoints.CHEEK_L, color=(255, 0, 255))\n",
    "        image = regions.draw(image, face_landmarks.landmark, keypoints.CHEEK_R, color=(255, 0, 255))\n",
    "        cv2.imshow(\"Image with Polygons\", image)\n",
    "        cv2.waitKey(0)  # Wait for a key press to close the image window\n",
    "        cv2.destroyAllWindows()\n",
    "else:\n",
    "    print(\"No face landmarks detected.\")\n"
   ]
  },
  {
   "cell_type": "markdown",
   "metadata": {},
   "source": [
    "## Uokvirivanje "
   ]
  },
  {
   "cell_type": "code",
   "execution_count": 6,
   "metadata": {},
   "outputs": [],
   "source": [
    "# draw the bounding box for the left and right eyes\n",
    "image = original_image.copy()\n",
    "for face_landmarks in results.multi_face_landmarks:\n",
    "   \n",
    "    # draw bounding box of the left eye\n",
    "    eye_bbox = regions.bbox(image, face_landmarks.landmark, keypoints.EYE_R3)    \n",
    "    if eye_bbox:\n",
    "        top_left = eye_bbox[0:2]\n",
    "        bottom_right = eye_bbox[2:4]\n",
    "\n",
    "        # Convert to integer coordinates\n",
    "        h, w, _ = image.shape\n",
    "        top_left = (int(top_left[0] * w), int(top_left[1] * h))\n",
    "        bottom_right = (int(bottom_right[0] * w), int(bottom_right[1] * h))\n",
    "        cv2.rectangle(image, top_left, bottom_right, (255, 0, 0), 2)\n",
    "    # draw bounding box of the right eye\n",
    "\n",
    "    # right_eye_bounding_box = regions.bbox(rgb_image, face_landmarks.landmark, keypoints.EYE_R3)    \n",
    "    # if right_eye_bounding_box:\n",
    "    #     top_left = right_eye_bounding_box[0:2]\n",
    "    #     bottom_right = right_eye_bounding_box[2:4]\n",
    "    #     cv2.rectangle(image, top_left, bottom_right, (255, 0, 0), 2)\n",
    "    \n",
    "    \n",
    "    \n",
    "cv2.imshow(\"Image with BBoxes\", image)\n",
    "cv2.waitKey(0)  # Wait for a key press to close the image window\n",
    "cv2.destroyAllWindows()"
   ]
  },
  {
   "cell_type": "markdown",
   "metadata": {},
   "source": [
    "## Secenje i translacija koordinata"
   ]
  },
  {
   "cell_type": "code",
   "execution_count": 8,
   "metadata": {},
   "outputs": [
    {
     "ename": "TypeError",
     "evalue": "get_landmarks() missing 1 required positional argument: 'landmark_indices'",
     "output_type": "error",
     "traceback": [
      "\u001b[1;31m---------------------------------------------------------------------------\u001b[0m",
      "\u001b[1;31mTypeError\u001b[0m                                 Traceback (most recent call last)",
      "Cell \u001b[1;32mIn[8], line 2\u001b[0m\n\u001b[0;32m      1\u001b[0m image \u001b[38;5;241m=\u001b[39m original_image\u001b[38;5;241m.\u001b[39mcopy()\n\u001b[1;32m----> 2\u001b[0m face_landmarks \u001b[38;5;241m=\u001b[39m \u001b[43mregions\u001b[49m\u001b[38;5;241;43m.\u001b[39;49m\u001b[43mget_landmarks\u001b[49m\u001b[43m(\u001b[49m\u001b[43mimage\u001b[49m\u001b[43m)\u001b[49m\n\u001b[0;32m      3\u001b[0m \u001b[38;5;66;03m# crop left and right eyes\u001b[39;00m\n\u001b[0;32m      4\u001b[0m eye, landmarks \u001b[38;5;241m=\u001b[39m regions\u001b[38;5;241m.\u001b[39mcrop(image, face_landmarks\u001b[38;5;241m.\u001b[39mlandmark, keypoints\u001b[38;5;241m.\u001b[39mEYE_L3 \u001b[38;5;241m+\u001b[39m keypoints\u001b[38;5;241m.\u001b[39mEYE_R3)\n",
      "\u001b[1;31mTypeError\u001b[0m: get_landmarks() missing 1 required positional argument: 'landmark_indices'"
     ]
    }
   ],
   "source": [
    "image = original_image.copy()\n",
    "face_landmarks = regions.landmark_coords(image)\n",
    "# crop left and right eyes\n",
    "eye, landmarks = regions.crop(image, face_landmarks.landmark, keypoints.EYE_L3 + keypoints.EYE_R3)\n",
    "h, w, _ = eye.shape\n",
    "\n",
    "# draw the landmarks for the eye\n",
    "for landmark in landmarks:\n",
    "    cv2.circle(eye, (int(landmark[0] * w), int(landmark[1] * h)), 2, (255, 0, 0), -1)\n",
    "\n",
    "\n",
    "cv2.imshow(\"Eye\", eye)\n",
    "\n",
    "cv2.waitKey(0)  # Wait for a key press to close the image window\n",
    "cv2.destroyAllWindows()"
   ]
  },
  {
   "cell_type": "markdown",
   "metadata": {},
   "source": [
    "## Ravnanje"
   ]
  },
  {
   "cell_type": "code",
   "execution_count": 2,
   "metadata": {},
   "outputs": [
    {
     "ename": "TypeError",
     "evalue": "float() argument must be a string or a real number, not 'NormalizedLandmarkList'",
     "output_type": "error",
     "traceback": [
      "\u001b[1;31m---------------------------------------------------------------------------\u001b[0m",
      "\u001b[1;31mTypeError\u001b[0m                                 Traceback (most recent call last)",
      "Cell \u001b[1;32mIn[2], line 6\u001b[0m\n\u001b[0;32m      4\u001b[0m eyes_before \u001b[38;5;241m=\u001b[39m regions\u001b[38;5;241m.\u001b[39mlandmark_coords(image_before)\n\u001b[0;32m      5\u001b[0m eyes_after \u001b[38;5;241m=\u001b[39m regions\u001b[38;5;241m.\u001b[39mlandmark_coords(image_after)\n\u001b[1;32m----> 6\u001b[0m aligned \u001b[38;5;241m=\u001b[39m \u001b[43mregions\u001b[49m\u001b[38;5;241;43m.\u001b[39;49m\u001b[43malign\u001b[49m\u001b[43m(\u001b[49m\u001b[43meyes_before\u001b[49m\u001b[43m,\u001b[49m\u001b[43m \u001b[49m\u001b[43meyes_after\u001b[49m\u001b[43m,\u001b[49m\u001b[43m \u001b[49m\u001b[43mimage_before\u001b[49m\u001b[43m,\u001b[49m\u001b[43m \u001b[49m\u001b[43mimage_after\u001b[49m\u001b[43m)\u001b[49m\n\u001b[0;32m      8\u001b[0m cv2\u001b[38;5;241m.\u001b[39mimshow(\u001b[38;5;124m\"\u001b[39m\u001b[38;5;124mBefore\u001b[39m\u001b[38;5;124m\"\u001b[39m, image_before)\n\u001b[0;32m      9\u001b[0m cv2\u001b[38;5;241m.\u001b[39mimshow(\u001b[38;5;124m\"\u001b[39m\u001b[38;5;124mAfter\u001b[39m\u001b[38;5;124m\"\u001b[39m, image_after)\n",
      "File \u001b[1;32mc:\\Users\\nikol\\Documents\\projects\\makeapp-pro\\lab\\regions.py:116\u001b[0m, in \u001b[0;36malign\u001b[1;34m(src_landmarks, tgt_landmarks, src_face, tgt_face)\u001b[0m\n\u001b[0;32m    114\u001b[0m \u001b[38;5;28;01mdef\u001b[39;00m \u001b[38;5;21malign\u001b[39m(src_landmarks, tgt_landmarks, src_face, tgt_face):\n\u001b[0;32m    115\u001b[0m \u001b[38;5;250m    \u001b[39m\u001b[38;5;124;03m\"\"\"Align the target face to the source face using homography.\"\"\"\u001b[39;00m\n\u001b[1;32m--> 116\u001b[0m     src_points \u001b[38;5;241m=\u001b[39m \u001b[43mnp\u001b[49m\u001b[38;5;241;43m.\u001b[39;49m\u001b[43marray\u001b[49m\u001b[43m(\u001b[49m\u001b[43msrc_landmarks\u001b[49m\u001b[43m,\u001b[49m\u001b[43m \u001b[49m\u001b[43mdtype\u001b[49m\u001b[38;5;241;43m=\u001b[39;49m\u001b[43mnp\u001b[49m\u001b[38;5;241;43m.\u001b[39;49m\u001b[43mfloat32\u001b[49m\u001b[43m)\u001b[49m\n\u001b[0;32m    117\u001b[0m     tgt_points \u001b[38;5;241m=\u001b[39m np\u001b[38;5;241m.\u001b[39marray(tgt_landmarks, dtype\u001b[38;5;241m=\u001b[39mnp\u001b[38;5;241m.\u001b[39mfloat32)\n\u001b[0;32m    119\u001b[0m     \u001b[38;5;66;03m# Find homography matrix\u001b[39;00m\n",
      "\u001b[1;31mTypeError\u001b[0m: float() argument must be a string or a real number, not 'NormalizedLandmarkList'"
     ]
    }
   ],
   "source": [
    "image_before = cv2.imread(\"data/before/1.png\")\n",
    "image_after = cv2.imread(\"data/after/1.png\")\n",
    "\n",
    "eyes_before = regions.landmark_coords(image_before)\n",
    "eyes_after = regions.landmark_coords(image_after)\n",
    "aligned = regions.align(eyes_before, eyes_after, image_before, image_after)\n",
    "\n",
    "cv2.imshow(\"Before\", image_before)\n",
    "cv2.imshow(\"After\", image_after)\n",
    "cv2.imshow(\"Aligned\", aligned)\n",
    "\n",
    "cv2.waitKey(0) \n",
    "cv2.destroyAllWindows()"
   ]
  }
 ],
 "metadata": {
  "kernelspec": {
   "display_name": "env",
   "language": "python",
   "name": "python3"
  },
  "language_info": {
   "codemirror_mode": {
    "name": "ipython",
    "version": 3
   },
   "file_extension": ".py",
   "mimetype": "text/x-python",
   "name": "python",
   "nbconvert_exporter": "python",
   "pygments_lexer": "ipython3",
   "version": "3.12.2"
  }
 },
 "nbformat": 4,
 "nbformat_minor": 2
}
