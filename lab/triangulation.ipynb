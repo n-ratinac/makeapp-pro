{
 "cells": [
  {
   "cell_type": "code",
   "execution_count": 10,
   "metadata": {},
   "outputs": [],
   "source": [
    "import cv2\n",
    "import keypoints as kp\n",
    "import regions\n",
    "\n",
    "image = cv2.imread('data/after/1.png')"
   ]
  },
  {
   "cell_type": "code",
   "execution_count": 6,
   "metadata": {},
   "outputs": [],
   "source": [
    "import cv2\n",
    "import keypoints as kp\n",
    "import regions\n",
    "\n",
    "image = cv2.imread('data/after/1.png')\n",
    "region = kp.LIPS\n",
    "# perform triangulation of kp.EYE_LOWER0\n",
    "tris = regions.triangulate_region(image, region)\n",
    "\n",
    "# convert the triangles to a list of tuples of integers\n",
    "tris = [(tri[0].item(), tri[1].item(), tri[2].item()) for tri in tris]\n",
    "\n",
    "for tri in tris:\n",
    "    regions.draw(image, tri, thickness=1)\n",
    "\n",
    "regions.draw(image, region, thickness=1, color=(255, 255, 0))\n",
    "\n",
    "\n",
    "\n",
    "cv2.imshow('image', image)\n",
    "cv2.waitKey(0)\n",
    "cv2.destroyAllWindows()\n",
    "\n",
    "\n",
    "\n"
   ]
  },
  {
   "cell_type": "code",
   "execution_count": 14,
   "metadata": {},
   "outputs": [
    {
     "name": "stderr",
     "output_type": "stream",
     "text": [
      "c:\\Users\\nikol\\Documents\\projects\\makeapp-pro\\lab\\env\\Lib\\site-packages\\google\\protobuf\\symbol_database.py:55: UserWarning: SymbolDatabase.GetPrototype() is deprecated. Please use message_factory.GetMessageClass() instead. SymbolDatabase.GetPrototype() will be removed soon.\n",
      "  warnings.warn('SymbolDatabase.GetPrototype() is deprecated. Please '\n"
     ]
    }
   ],
   "source": [
    "# Draw the inner landmarks of the kp.EYE_L3 region as points\n",
    "region = kp.EYE_L3 + kp.EYE_R3\n",
    "landmarks = regions.inner_landmarks(image, region)\n",
    "\n",
    "# trainslate to pixel coords\n",
    "w, h = image.shape[1], image.shape[0]\n",
    "landmarks = [(w * point[0], h * point[1]) for point in landmarks]\n",
    "\n",
    "for point in landmarks:\n",
    "    cv2.circle(image, (int(point[0]), int(point[1])), 2, (0, 255, 0), 2)\n",
    "\n",
    "\n",
    "# Display the image with the drawn points\n",
    "cv2.imshow('image_with_eye_l3_points', image)\n",
    "cv2.waitKey(0)\n",
    "cv2.destroyAllWindows()"
   ]
  }
 ],
 "metadata": {
  "kernelspec": {
   "display_name": "env",
   "language": "python",
   "name": "python3"
  },
  "language_info": {
   "codemirror_mode": {
    "name": "ipython",
    "version": 3
   },
   "file_extension": ".py",
   "mimetype": "text/x-python",
   "name": "python",
   "nbconvert_exporter": "python",
   "pygments_lexer": "ipython3",
   "version": "3.12.2"
  }
 },
 "nbformat": 4,
 "nbformat_minor": 2
}
